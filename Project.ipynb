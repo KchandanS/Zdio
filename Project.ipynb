{
  "nbformat": 4,
  "nbformat_minor": 0,
  "metadata": {
    "colab": {
      "provenance": [],
      "include_colab_link": true
    },
    "kernelspec": {
      "name": "python3",
      "display_name": "Python 3"
    },
    "language_info": {
      "name": "python"
    }
  },
  "cells": [
    {
      "cell_type": "markdown",
      "metadata": {
        "id": "view-in-github",
        "colab_type": "text"
      },
      "source": [
        "<a href=\"https://colab.research.google.com/github/KchandanS/Zdio/blob/main/Project.ipynb\" target=\"_parent\"><img src=\"https://colab.research.google.com/assets/colab-badge.svg\" alt=\"Open In Colab\"/></a>"
      ]
    },
    {
      "cell_type": "code",
      "source": [
        "import pandas as pd\n",
        "from sklearn.model_selection import train_test_split\n",
        "from sklearn.preprocessing import StandardScaler\n",
        "from sklearn.linear_model import LogisticRegression\n",
        "from sklearn.metrics import accuracy_score, classification_report, confusion_matrix\n",
        "\n",
        "# Load the dataset\n",
        "df = pd.read_csv('Heart_data.csv')\n",
        "\n",
        "# Fill in missing values. Here, we'll use the median for each column.\n",
        "# This is just an example, and you should choose the method that makes sense for your data.\n",
        "# You can also treat different columns differently based on your domain knowledge.\n",
        "df.fillna(df.median(), inplace=True)\n",
        "\n",
        "# Check if there are any remaining NaNs, just to be sure\n",
        "assert not df.isnull().values.any(), \"There are still NaNs in the DataFrame.\"\n",
        "\n",
        "# Split the data into features and target label\n",
        "X = df.drop(columns=['target'])  # Features\n",
        "y = df['target']  # Labels\n",
        "\n",
        "# Split the dataset into training and validation sets\n",
        "X_train, X_val, y_train, y_val = train_test_split(X, y, test_size=0.2, random_state=42)\n",
        "\n",
        "# Initialize the StandardScaler\n",
        "scaler = StandardScaler()\n",
        "\n",
        "# Fit the scaler on the training data and transform both the training and validation data\n",
        "X_train_scaled = scaler.fit_transform(X_train)\n",
        "X_val_scaled = scaler.transform(X_val)\n",
        "\n",
        "# Initialize and train the Logistic Regression model on the scaled training data\n",
        "model = LogisticRegression()\n",
        "model.fit(X_train_scaled, y_train)\n",
        "\n",
        "# Make predictions on the scaled validation data\n",
        "y_pred = model.predict(X_val_scaled)\n",
        "\n",
        "# Output the evaluation metrics\n",
        "print(f\"Accuracy: {accuracy_score(y_val, y_pred)}\")\n",
        "print(classification_report(y_val, y_pred))\n",
        "print(confusion_matrix(y_val, y_pred))"
      ],
      "metadata": {
        "colab": {
          "base_uri": "https://localhost:8080/"
        },
        "id": "WxWvsf8YKzFc",
        "outputId": "17fe8023-5dc3-4984-8238-7b2afeb3d526"
      },
      "execution_count": null,
      "outputs": [
        {
          "output_type": "stream",
          "name": "stdout",
          "text": [
            "Accuracy: 0.7241379310344828\n",
            "              precision    recall  f1-score   support\n",
            "\n",
            "           0       0.81      0.66      0.73       140\n",
            "           1       0.70      0.83      0.76       143\n",
            "           2       0.54      0.68      0.60        28\n",
            "           3       0.00      0.00      0.00         6\n",
            "           4       0.00      0.00      0.00         2\n",
            "\n",
            "    accuracy                           0.72       319\n",
            "   macro avg       0.41      0.44      0.42       319\n",
            "weighted avg       0.72      0.72      0.72       319\n",
            "\n",
            "[[ 93  46   1   0   0]\n",
            " [ 16 119   8   0   0]\n",
            " [  5   4  19   0   0]\n",
            " [  1   0   5   0   0]\n",
            " [  0   0   2   0   0]]\n"
          ]
        },
        {
          "output_type": "stream",
          "name": "stderr",
          "text": [
            "/usr/local/lib/python3.10/dist-packages/sklearn/metrics/_classification.py:1344: UndefinedMetricWarning: Precision and F-score are ill-defined and being set to 0.0 in labels with no predicted samples. Use `zero_division` parameter to control this behavior.\n",
            "  _warn_prf(average, modifier, msg_start, len(result))\n",
            "/usr/local/lib/python3.10/dist-packages/sklearn/metrics/_classification.py:1344: UndefinedMetricWarning: Precision and F-score are ill-defined and being set to 0.0 in labels with no predicted samples. Use `zero_division` parameter to control this behavior.\n",
            "  _warn_prf(average, modifier, msg_start, len(result))\n",
            "/usr/local/lib/python3.10/dist-packages/sklearn/metrics/_classification.py:1344: UndefinedMetricWarning: Precision and F-score are ill-defined and being set to 0.0 in labels with no predicted samples. Use `zero_division` parameter to control this behavior.\n",
            "  _warn_prf(average, modifier, msg_start, len(result))\n"
          ]
        }
      ]
    },
    {
      "cell_type": "code",
      "source": [
        "from google.colab import drive\n",
        "drive.mount('/content/drive')"
      ],
      "metadata": {
        "id": "yB8iBJSeSONz"
      },
      "execution_count": null,
      "outputs": []
    },
    {
      "cell_type": "code",
      "execution_count": null,
      "metadata": {
        "id": "PbhJwJPuKwbh"
      },
      "outputs": [],
      "source": []
    }
  ]
}